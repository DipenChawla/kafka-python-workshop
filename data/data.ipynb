{
 "cells": [
  {
   "cell_type": "code",
   "execution_count": 6,
   "metadata": {},
   "outputs": [],
   "source": [
    "import pandas as pd\n",
    "import json\n",
    "data =  json.loads(open(\"airports.json\").read())\n",
    "df =  pd.DataFrame(data)"
   ]
  },
  {
   "cell_type": "code",
   "execution_count": 12,
   "metadata": {},
   "outputs": [
    {
     "name": "stdout",
     "output_type": "stream",
     "text": [
      "<class 'pandas.core.frame.DataFrame'>\n",
      "RangeIndex: 66 entries, 0 to 65\n",
      "Data columns (total 18 columns):\n",
      " #   Column          Non-Null Count  Dtype \n",
      "---  ------          --------------  ----- \n",
      " 0   code            66 non-null     object\n",
      " 1   lat             66 non-null     object\n",
      " 2   lon             66 non-null     object\n",
      " 3   name            66 non-null     object\n",
      " 4   city            66 non-null     object\n",
      " 5   state           66 non-null     object\n",
      " 6   country         66 non-null     object\n",
      " 7   woeid           66 non-null     object\n",
      " 8   tz              66 non-null     object\n",
      " 9   phone           66 non-null     object\n",
      " 10  type            66 non-null     object\n",
      " 11  email           66 non-null     object\n",
      " 12  url             66 non-null     object\n",
      " 13  runway_length   48 non-null     object\n",
      " 14  elev            48 non-null     object\n",
      " 15  icao            66 non-null     object\n",
      " 16  direct_flights  66 non-null     object\n",
      " 17  carriers        66 non-null     object\n",
      "dtypes: object(18)\n",
      "memory usage: 9.4+ KB\n"
     ]
    }
   ],
   "source": [
    "df.info()"
   ]
  },
  {
   "cell_type": "code",
   "execution_count": 11,
   "metadata": {},
   "outputs": [
    {
     "data": {
      "text/plain": "country\nAlgeria                  1\nArgentina                2\nAustralia                3\nBrazil                   2\nChad                     1\nChina                    2\nColombia                 1\nDenmark                  2\nEgypt                    1\nEthiopia                 2\nFrance                   1\nFrench Polynesia         1\nGhana                    1\nIceland                  1\nIran                     5\nIvory Coast              1\nJordan                   1\nMexico                   1\nMorocco                  1\nNigeria                  1\nNorway                   1\nRussia                   3\nRussian Federation       1\nSaudi Arabia             1\nSolomon Islands          1\nSouth Africa             1\nSpain                    2\nSwitzerland              1\nTurkey                   3\nUnited Arab Emirates     1\nUnited Kingdom           3\nUnited States           14\nUzbekistan               1\nYemen                    2\nName: code, dtype: int64"
     },
     "execution_count": 11,
     "metadata": {},
     "output_type": "execute_result"
    }
   ],
   "source": [
    "df.groupby('country')['code'].count()"
   ]
  }
 ],
 "metadata": {
  "kernelspec": {
   "display_name": "Python 3.9.2 64-bit",
   "metadata": {
    "interpreter": {
     "hash": "aee8b7b246df8f9039afb4144a1f6fd8d2ca17a180786b69acc140d282b71a49"
    }
   },
   "name": "python3"
  },
  "language_info": {
   "codemirror_mode": {
    "name": "ipython",
    "version": 3
   },
   "file_extension": ".py",
   "mimetype": "text/x-python",
   "name": "python",
   "nbconvert_exporter": "python",
   "pygments_lexer": "ipython3",
   "version": "3.9.2"
  },
  "orig_nbformat": 2
 },
 "nbformat": 4,
 "nbformat_minor": 2
}