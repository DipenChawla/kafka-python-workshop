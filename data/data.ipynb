{
 "cells": [
  {
   "cell_type": "code",
   "execution_count": null,
   "metadata": {},
   "outputs": [],
   "source": [
    "# producer \n",
    "import sys\n",
    "sys.path.append('../src')\n",
    "from producer import delivery_report, get_kafka_producer"
   ]
  },
  {
   "cell_type": "code",
   "execution_count": 3,
   "metadata": {},
   "outputs": [],
   "source": [
    "import pandas as pd\n",
    "import json,requests\n",
    "data =  json.loads(open(\"airports.json\").read())\n",
    "df =  pd.DataFrame(data)\n",
    "loc = df.country.to_list()"
   ]
  },
  {
   "cell_type": "code",
   "execution_count": null,
   "metadata": {},
   "outputs": [],
   "source": [
    "producer = get_kafka_producer(KAFKA_BOOTSTRAP_SERVERS)\n",
    "for con in df.country.to_list():\n",
    "    data = {\n",
    "        \"PERSON\" : \"tom\",\n",
    "        \"LOCATION\" :  con\n",
    "    }\n",
    "    res = producer.produce('movements', value=json.dumps(data), on_delivery=delivery_report)"
   ]
  },
  {
   "cell_type": "code",
   "execution_count": 5,
   "metadata": {},
   "outputs": [],
   "source": [
    "def query_ksql(query):    \n",
    "    url = \"http://localhost:8088/query\"\n",
    "    head = {\n",
    "        \"Content-Type\": \"application/vnd.ksql.v1+json\"\n",
    "    }\n",
    "    payload = {\n",
    "        \"ksql\": query,\n",
    "        \"streamsProperties\" : {}\n",
    "    }\n",
    "    r = requests.post(url,json=payload,headers=head)\n",
    "    data = r.json() \n",
    "    return data\n",
    "query_ksql(\"select * from AGG_MOVEMENT  where LOCATION = 'Leeds';\")"
   ]
  },
  {
   "cell_type": "code",
   "execution_count": 6,
   "metadata": {},
   "outputs": [
    {
     "data": {
      "text/plain": "[{'header': {'queryId': 'query_1631794001717',\n   'schema': '`LOCATION` STRING KEY, `WINDOWSTART` BIGINT KEY, `WINDOWEND` BIGINT KEY, `LOC_COUNT` BIGINT'}},\n {'row': {'columns': ['Leeds', 1631750400000, 1632355200000, 6]}}]"
     },
     "execution_count": 6,
     "metadata": {},
     "output_type": "execute_result"
    }
   ],
   "source": [
    "a\n"
   ]
  },
  {
   "cell_type": "code",
   "execution_count": null,
   "metadata": {},
   "outputs": [],
   "source": [
    "df.groupby('country')['code'].count()"
   ]
  }
 ],
 "metadata": {
  "kernelspec": {
   "display_name": "Python 3",
   "language": "python",
   "name": "python3"
  },
  "language_info": {
   "codemirror_mode": {
    "name": "ipython",
    "version": 3
   },
   "file_extension": ".py",
   "mimetype": "text/x-python",
   "name": "python",
   "nbconvert_exporter": "python",
   "pygments_lexer": "ipython3",
   "version": "3.8.5"
  },
  "orig_nbformat": 2
 },
 "nbformat": 4,
 "nbformat_minor": 2
}